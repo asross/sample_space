{
 "cells": [
  {
   "cell_type": "code",
   "execution_count": 3,
   "metadata": {
    "collapsed": false
   },
   "outputs": [
    {
     "name": "stdout",
     "output_type": "stream",
     "text": [
      "0.98935\n",
      "0.50025\n",
      "0.495\n",
      "0.3788\n",
      "0.49491322561340517\n",
      "0.6607142857142857\n",
      "0.5030644026926555\n",
      "5.00405\n",
      "5.50223947447\n",
      "2.53009391\n",
      "2.23058382016\n"
     ]
    },
    {
     "data": {
      "image/png": "[encoded data removed]",
      "text/plain": [
       "<matplotlib.figure.Figure at 0x10e1fb278>"
      ]
     },
     "metadata": {},
     "output_type": "display_data"
    }
   ],
   "source": [
    "from sample_space import *\n",
    "\n",
    "class NCoinTosses(Experiment):\n",
    "    def __init__(self, n, p):\n",
    "        self.n = n\n",
    "        self.p = p\n",
    "\n",
    "    def rerun(self):\n",
    "        self.tosses = [Bern(self.p) for _ in range(self.n)]\n",
    "\n",
    "    def heads(self):\n",
    "        return sum(self.tosses)\n",
    "\n",
    "    def there_are_at_least_two_heads(self):\n",
    "        return self.heads() >= 2\n",
    "\n",
    "    def first_toss_heads(self):\n",
    "        return self.tosses[0]\n",
    "\n",
    "space = SampleSpace(NCoinTosses(10, 0.5), iters=20000)\n",
    "\n",
    "# ask for probability of any truthy method\n",
    "print(space.probability_that('there_are_at_least_two_heads'))\n",
    "\n",
    "# alias for the above, if it's more grammatical\n",
    "print(space.probability_of('first_toss_heads'))\n",
    "\n",
    "# change the number of iterations\n",
    "print(space.probability_of('first_toss_heads', iters=1000))\n",
    "\n",
    "# ask for probabilities of functions of random variables\n",
    "print(space.probability_that(['heads', is_greater_than(5)]))\n",
    "\n",
    "# ask for conditional probabilities\n",
    "print(space.probability_that(['heads', is_greater_than(5)], given=['first_toss_heads']))\n",
    "print(space.probability_of('first_toss_heads', given=[['heads', is_greater_than(5)]]))\n",
    "print(space.probability_that(['heads', is_greater_than(5)],\n",
    "    given=['first_toss_heads', 'there_are_at_least_two_heads']))\n",
    "\n",
    "# ask for expectations and variances, conditionally or absolutely\n",
    "print(space.expected_value_of('heads'))\n",
    "print(space.expected_value_of('heads', given=['first_toss_heads']))\n",
    "print(space.variance_of('heads'))\n",
    "print(space.variance_of('heads', given=['first_toss_heads']))\n",
    "\n",
    "# some plots\n",
    "fig = plt.figure(figsize=(14,3))\n",
    "\n",
    "# plot distribution histograms\n",
    "fig.add_subplot(121)\n",
    "space.plot_distribution_of('heads') # pass kwargs\n",
    "\n",
    "# plot conditional distribution histograms\n",
    "fig.add_subplot(122)\n",
    "space.plot_distribution_of('heads', given=['first_toss_heads'], bins=10) # can pass kwargs\n",
    "\n",
    "plt.show()"
   ]
  },
  {
   "cell_type": "code",
   "execution_count": null,
   "metadata": {
    "collapsed": true
   },
   "outputs": [],
   "source": []
  }
 ],
 "metadata": {
  "kernelspec": {
   "display_name": "Python 3",
   "language": "python",
   "name": "python3"
  },
  "language_info": {
   "codemirror_mode": {
    "name": "ipython",
    "version": 3
   },
   "file_extension": ".py",
   "mimetype": "text/x-python",
   "name": "python",
   "nbconvert_exporter": "python",
   "pygments_lexer": "ipython3",
   "version": "3.5.1"
  }
 },
 "nbformat": 4,
 "nbformat_minor": 1
}
